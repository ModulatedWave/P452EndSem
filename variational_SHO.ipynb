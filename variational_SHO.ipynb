{
 "cells": [
  {
   "cell_type": "code",
   "execution_count": 3,
   "metadata": {},
   "outputs": [],
   "source": [
    "import numpy as np\n",
    "import matplotlib.pyplot as plt"
   ]
  },
  {
   "cell_type": "code",
   "execution_count": 4,
   "metadata": {},
   "outputs": [],
   "source": [
    "def energy(x, alpha):\n",
    "    return alpha + ( x**2 ) * ( 1/2 - 2*alpha**2 )"
   ]
  },
  {
   "cell_type": "code",
   "execution_count": 5,
   "metadata": {},
   "outputs": [],
   "source": [
    "def p(x, alpha):\n",
    "    return ( alpha/np.pi ) * np.exp( -2*alpha*x**2 )"
   ]
  },
  {
   "cell_type": "code",
   "execution_count": 6,
   "metadata": {},
   "outputs": [],
   "source": [
    "def metropolis(alpha):\n",
    "    x = 1\n",
    "    delta = 0.8\n",
    "\n",
    "    gs_energy = energy(x, alpha)\n",
    "\n",
    "    N = 100000\n",
    "\n",
    "    for i in range(N):\n",
    "        \n",
    "        if i < 500:\n",
    "            x_new = x + delta * (2*np.random.rand() - 1)\n",
    "            gs_energy_new = energy(x_new, alpha)\n",
    "            if np.random.uniform() < min(1, p(x_new, alpha)/p(x, alpha)):\n",
    "                x = x_new\n",
    "        else:    \n",
    "            x_new = x + delta * (2*np.random.rand() - 1)\n",
    "            gs_energy_new = energy(x_new, alpha)\n",
    "            if np.random.uniform() < min(1, p(x_new, alpha)/p(x, alpha)):\n",
    "                x = x_new\n",
    "                gs_energy += gs_energy_new\n",
    "               \n",
    "    return gs_energy/N"
   ]
  },
  {
   "cell_type": "code",
   "execution_count": 7,
   "metadata": {},
   "outputs": [
    {
     "data": {
      "text/plain": [
       "[<matplotlib.lines.Line2D at 0x10ef523b0>]"
      ]
     },
     "execution_count": 7,
     "metadata": {},
     "output_type": "execute_result"
    },
    {
     "data": {
      "image/png": "[encoded data removed]",
      "text/plain": [
       "<Figure size 640x480 with 1 Axes>"
      ]
     },
     "metadata": {},
     "output_type": "display_data"
    }
   ],
   "source": [
    "alphas = np.linspace(0.1, 1.5, 100)\n",
    "energies = []\n",
    "\n",
    "for alpha in alphas:\n",
    "    energies.append(metropolis(alpha))\n",
    "plt.plot(alphas, energies)"
   ]
  },
  {
   "cell_type": "code",
   "execution_count": 8,
   "metadata": {},
   "outputs": [
    {
     "data": {
      "text/plain": [
       "31"
      ]
     },
     "execution_count": 8,
     "metadata": {},
     "output_type": "execute_result"
    }
   ],
   "source": [
    "np.argmin(energies)"
   ]
  },
  {
   "cell_type": "code",
   "execution_count": 9,
   "metadata": {},
   "outputs": [
    {
     "data": {
      "text/plain": [
       "0.5383838383838384"
      ]
     },
     "execution_count": 9,
     "metadata": {},
     "output_type": "execute_result"
    }
   ],
   "source": [
    "alphas[np.argmin(energies)]"
   ]
  },
  {
   "cell_type": "code",
   "execution_count": null,
   "metadata": {},
   "outputs": [],
   "source": []
  }
 ],
 "metadata": {
  "kernelspec": {
   "display_name": "Python 3",
   "language": "python",
   "name": "python3"
  },
  "language_info": {
   "codemirror_mode": {
    "name": "ipython",
    "version": 3
   },
   "file_extension": ".py",
   "mimetype": "text/x-python",
   "name": "python",
   "nbconvert_exporter": "python",
   "pygments_lexer": "ipython3",
   "version": "3.10.8"
  }
 },
 "nbformat": 4,
 "nbformat_minor": 2
}
